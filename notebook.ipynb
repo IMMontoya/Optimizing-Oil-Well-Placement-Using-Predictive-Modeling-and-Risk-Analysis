{
 "cells": [
  {
   "cell_type": "code",
   "execution_count": 1,
   "metadata": {},
   "outputs": [],
   "source": [
    "import pandas as pd"
   ]
  },
  {
   "cell_type": "code",
   "execution_count": 2,
   "metadata": {},
   "outputs": [],
   "source": [
    "# Load the data\n",
    "\n",
    "try:\n",
    "    well1 = pd.read_csv('geo_data_0.csv')\n",
    "    well2 = pd.read_csv('geo_data_1.csv')\n",
    "    well3 = pd.read_csv('geo_data_2.csv')\n",
    "except:\n",
    "    well1 = pd.read_csv('/datasets/geo_data_0.csv')\n",
    "    well2 = pd.read_csv('/datasets/geo_data_1.csv')\n",
    "    well3 = pd.read_csv('/datasets/geo_data_2.csv')"
   ]
  },
  {
   "cell_type": "code",
   "execution_count": null,
   "metadata": {},
   "outputs": [],
   "source": []
  }
 ],
 "metadata": {
  "kernelspec": {
   "display_name": "TripTenHub",
   "language": "python",
   "name": "python3"
  },
  "language_info": {
   "codemirror_mode": {
    "name": "ipython",
    "version": 3
   },
   "file_extension": ".py",
   "mimetype": "text/x-python",
   "name": "python",
   "nbconvert_exporter": "python",
   "pygments_lexer": "ipython3",
   "version": "3.10.12"
  }
 },
 "nbformat": 4,
 "nbformat_minor": 2
}
